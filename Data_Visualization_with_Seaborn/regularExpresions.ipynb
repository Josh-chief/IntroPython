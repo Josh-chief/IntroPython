{
 "cells": [
  {
   "cell_type": "markdown",
   "metadata": {},
   "source": [
    "# Extract Information Using Regular Expressions (RegEx)\n",
    "\n",
    "The first thing that i want to start off is the notion of raw string\n",
    "\n",
    "**r** expression is used to create a raw string. Python raw string treats backslash (\\\\) as a literal character.\n",
    "\n",
    "\n",
    "\n",
    "Let us see some examples!"
   ]
  },
  {
   "cell_type": "code",
   "execution_count": 1,
   "metadata": {},
   "outputs": [
    {
     "name": "stdout",
     "output_type": "stream",
     "text": [
      "string: C:\\desktop\n",
      "athan\n"
     ]
    },
    {
     "name": "stderr",
     "output_type": "stream",
     "text": [
      "<>:2: SyntaxWarning: invalid escape sequence '\\d'\n",
      "<>:2: SyntaxWarning: invalid escape sequence '\\d'\n",
      "C:\\Users\\HomePC\\AppData\\Local\\Temp\\ipykernel_15396\\261882512.py:2: SyntaxWarning: invalid escape sequence '\\d'\n",
      "  path = \"C:\\desktop\\nathan\"  #string\n"
     ]
    }
   ],
   "source": [
    "# normal string vs raw string\n",
    "path = \"C:\\desktop\\nathan\"  #string\n",
    "print(\"string:\",path)"
   ]
  },
  {
   "cell_type": "code",
   "execution_count": 2,
   "metadata": {},
   "outputs": [
    {
     "name": "stdout",
     "output_type": "stream",
     "text": [
      "raw string: C:\\desktop\\nathan\n"
     ]
    }
   ],
   "source": [
    "path= r\"C:\\desktop\\nathan\"  #raw string\n",
    "print(\"raw string:\",path)"
   ]
  },
  {
   "cell_type": "markdown",
   "metadata": {},
   "source": [
    "So, it is always recommended to use raw strings while dealing with regular expressions. \n",
    "\n",
    "Python has a built-in module to work with regular expressions called **re**. Some of the commonly used methods from the **re** module are listed below:\n",
    "\n",
    "1.re.match(): This function checks if \n",
    "\n",
    "2.re.search()\n",
    "\n",
    "3.re.findall()\n",
    "\n",
    "<br>\n",
    "\n",
    "Let us look at each method with the help of example.\n",
    "\n",
    "**1. re.match()**\n",
    "\n",
    "The re.match function returns a match object on success and none on failure."
   ]
  },
  {
   "cell_type": "code",
   "execution_count": 4,
   "metadata": {},
   "outputs": [
    {
     "name": "stdout",
     "output_type": "stream",
     "text": [
      "<re.Match object; span=(0, 9), match='Analytics'>\n",
      "None\n"
     ]
    }
   ],
   "source": [
    "import re\n",
    "#match a word at the beginning of a string \n",
    "\n",
    "result = re.match('Analytics',r'Analytics Vidhya is the largest data science community of India')\n",
    "print(result)\n",
    "\n",
    "result_2 = re.match('largest',r'Analytics Vidhya is the largest data science community of India') \n",
    "print(result_2)"
   ]
  },
  {
   "cell_type": "markdown",
   "metadata": {},
   "source": [
    "Since output of the re.match is an object, we will use *group()* function of match object to get the matched expression."
   ]
  },
  {
   "cell_type": "code",
   "execution_count": 5,
   "metadata": {},
   "outputs": [
    {
     "name": "stdout",
     "output_type": "stream",
     "text": [
      "Analytics\n"
     ]
    }
   ],
   "source": [
    "print(result.group())  #returns the total matches"
   ]
  },
  {
   "cell_type": "markdown",
   "metadata": {},
   "source": [
    "<br>\n",
    "\n",
    "**2. re.search()**\n",
    "\n",
    "Matches the first occurence of a pattern in the entire string."
   ]
  },
  {
   "cell_type": "code",
   "execution_count": 6,
   "metadata": {},
   "outputs": [
    {
     "name": "stdout",
     "output_type": "stream",
     "text": [
      "founded\n"
     ]
    }
   ],
   "source": [
    "#search for a pattern 'founded' in a given string \n",
    "\n",
    "result = re.search('founded',r'Andrew NG founded Coursera.He also founded deeplearning.ai')\n",
    "print(result.group())"
   ]
  },
  {
   "cell_type": "markdown",
   "metadata": {},
   "source": [
    "<br>\n",
    "\n",
    "**3. re.findall()**\n",
    "\n",
    "It will return all the occurrences of the pattern from the string. I would recommend you to use *re.findall()* always, it can work like both *re.search()* and *re.match()*."
   ]
  },
  {
   "cell_type": "code",
   "execution_count": 7,
   "metadata": {},
   "outputs": [
    {
     "name": "stdout",
     "output_type": "stream",
     "text": [
      "['founded', 'founded']\n"
     ]
    }
   ],
   "source": [
    "result = re.findall('founded',r'Andrew NG founded Coursera. He also founded deeplearning.ai')  \n",
    "print(result)"
   ]
  },
  {
   "cell_type": "markdown",
   "metadata": {},
   "source": [
    "### Special sequences\n",
    "\n",
    "1. **\\A**\treturns a match if the specified pattern is at the beginning of the string."
   ]
  },
  {
   "cell_type": "code",
   "execution_count": 9,
   "metadata": {},
   "outputs": [
    {
     "name": "stdout",
     "output_type": "stream",
     "text": [
      "[]\n"
     ]
    },
    {
     "name": "stderr",
     "output_type": "stream",
     "text": [
      "<>:3: SyntaxWarning: invalid escape sequence '\\A'\n",
      "<>:3: SyntaxWarning: invalid escape sequence '\\A'\n",
      "C:\\Users\\HomePC\\AppData\\Local\\Temp\\ipykernel_15396\\54747255.py:3: SyntaxWarning: invalid escape sequence '\\A'\n",
      "  x= re.findall('\\AVidhya', str)\n"
     ]
    }
   ],
   "source": [
    "str = r'Analytics Vidhya is the largest data science community of India'\n",
    "\n",
    "x= re.findall('\\AVidhya', str)\n",
    "\n",
    "print(x)"
   ]
  },
  {
   "cell_type": "markdown",
   "metadata": {},
   "source": [
    "2. **\\b** returns a match where the specified pattern is at the beginning or at the end of a word."
   ]
  },
  {
   "cell_type": "code",
   "execution_count": 11,
   "metadata": {},
   "outputs": [
    {
     "name": "stdout",
     "output_type": "stream",
     "text": [
      "['est']\n"
     ]
    }
   ],
   "source": [
    "#checks if there is any word that ends with 'est'\"Visualization With Seaborn_v2.ipynb\"\n",
    "\n",
    "x= re.findall(r'est\\b',str)\n",
    "print(x)"
   ]
  },
  {
   "cell_type": "markdown",
   "metadata": {},
   "source": [
    "It returns the last three characters of the word \"largest\"."
   ]
  },
  {
   "cell_type": "markdown",
   "metadata": {},
   "source": [
    "3. **\\B**\treturns a match where the specified pattern is present, but NOT at the beginning (or at the end) of a word."
   ]
  },
  {
   "cell_type": "code",
   "execution_count": 12,
   "metadata": {},
   "outputs": [
    {
     "name": "stdout",
     "output_type": "stream",
     "text": [
      "['en']\n"
     ]
    }
   ],
   "source": [
    "str = r'Analytics Vidhya is the largest data science community of India'\n",
    "\n",
    "x = re.findall(r\"\\Ben\", str)\n",
    "\n",
    "print(x)"
   ]
  },
  {
   "cell_type": "markdown",
   "metadata": {},
   "source": [
    "4. **\\d** returns a match where the string contains digits (numbers from 0-9)"
   ]
  },
  {
   "cell_type": "code",
   "execution_count": 15,
   "metadata": {},
   "outputs": [
    {
     "name": "stdout",
     "output_type": "stream",
     "text": [
      "['2', '1', '9']\n",
      "Yes, there is at least one match!\n"
     ]
    },
    {
     "name": "stderr",
     "output_type": "stream",
     "text": [
      "<>:4: SyntaxWarning: invalid escape sequence '\\d'\n",
      "<>:4: SyntaxWarning: invalid escape sequence '\\d'\n",
      "C:\\Users\\HomePC\\AppData\\Local\\Temp\\ipykernel_15396\\2397611879.py:4: SyntaxWarning: invalid escape sequence '\\d'\n",
      "  x = re.findall(\"\\d\", str)\n"
     ]
    },
    {
     "ename": "",
     "evalue": "",
     "output_type": "error",
     "traceback": [
      "\u001b[1;31mThe Kernel crashed while executing code in the current cell or a previous cell. \n",
      "\u001b[1;31mPlease review the code in the cell(s) to identify a possible cause of the failure. \n",
      "\u001b[1;31mClick <a href='https://aka.ms/vscodeJupyterKernelCrash'>here</a> for more info. \n",
      "\u001b[1;31mView Jupyter <a href='command:jupyter.viewOutput'>log</a> for further details."
     ]
    }
   ],
   "source": [
    "str = \"2 million monthly visits in Jan'19.\"\n",
    "\n",
    "#Check if the string contains any digits (numbers from 0-9):\n",
    "x = re.findall(\"\\d\", str)\n",
    "\n",
    "print(x)\n",
    "\n",
    "if (x):\n",
    "  print(\"Yes, there is at least one match!\")\n",
    "else:\n",
    "  print(\"No match\")"
   ]
  }
 ],
 "metadata": {
  "kernelspec": {
   "display_name": "Python 3",
   "language": "python",
   "name": "python3"
  },
  "language_info": {
   "codemirror_mode": {
    "name": "ipython",
    "version": 3
   },
   "file_extension": ".py",
   "mimetype": "text/x-python",
   "name": "python",
   "nbconvert_exporter": "python",
   "pygments_lexer": "ipython3",
   "version": "3.12.1"
  }
 },
 "nbformat": 4,
 "nbformat_minor": 2
}
