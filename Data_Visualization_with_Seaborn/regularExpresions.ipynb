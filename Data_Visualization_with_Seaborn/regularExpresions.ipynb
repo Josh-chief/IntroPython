{
 "cells": [
  {
   "cell_type": "markdown",
   "metadata": {},
   "source": [
    "# Extract Information Using Regular Expressions (RegEx)\n",
    "\n",
    "The first thing that i want to start off is the notion of raw string\n",
    "\n",
    "**r** expression is used to create a raw string. Python raw string treats backslash (\\\\) as a literal character.\n",
    "\n",
    "\n",
    "\n",
    "Let us see some examples!"
   ]
  },
  {
   "cell_type": "code",
   "execution_count": 2,
   "metadata": {},
   "outputs": [
    {
     "name": "stdout",
     "output_type": "stream",
     "text": [
      "string: C:\\desktop\n",
      "athan\n"
     ]
    },
    {
     "name": "stderr",
     "output_type": "stream",
     "text": [
      "<>:2: SyntaxWarning: invalid escape sequence '\\d'\n",
      "<>:2: SyntaxWarning: invalid escape sequence '\\d'\n",
      "C:\\Users\\HomePC\\AppData\\Local\\Temp\\ipykernel_4768\\261882512.py:2: SyntaxWarning: invalid escape sequence '\\d'\n",
      "  path = \"C:\\desktop\\nathan\"  #string\n"
     ]
    }
   ],
   "source": [
    "# normal string vs raw string\n",
    "path = \"C:\\desktop\\nathan\"  #string\n",
    "print(\"string:\",path)"
   ]
  },
  {
   "cell_type": "code",
   "execution_count": 3,
   "metadata": {},
   "outputs": [
    {
     "name": "stdout",
     "output_type": "stream",
     "text": [
      "raw string: C:\\desktop\\nathan\n"
     ]
    }
   ],
   "source": [
    "path= r\"C:\\desktop\\nathan\"  #raw string\n",
    "print(\"raw string:\",path)"
   ]
  },
  {
   "cell_type": "markdown",
   "metadata": {},
   "source": [
    "So, it is always recommended to use raw strings while dealing with regular expressions. \n",
    "\n",
    "Python has a built-in module to work with regular expressions called **re**. Some of the commonly used methods from the **re** module are listed below:\n",
    "\n",
    "1.re.match(): This function checks if \n",
    "\n",
    "2.re.search()\n",
    "\n",
    "3.re.findall()\n",
    "\n",
    "<br>\n",
    "\n",
    "Let us look at each method with the help of example.\n",
    "\n",
    "**1. re.match()**\n",
    "\n",
    "The re.match function returns a match object on success and none on failure."
   ]
  },
  {
   "cell_type": "code",
   "execution_count": 4,
   "metadata": {},
   "outputs": [
    {
     "name": "stdout",
     "output_type": "stream",
     "text": [
      "<re.Match object; span=(0, 9), match='Analytics'>\n",
      "None\n"
     ]
    }
   ],
   "source": [
    "import re\n",
    "#match a word at the beginning of a string \n",
    "\n",
    "result = re.match('Analytics',r'Analytics Vidhya is the largest data science community of India')\n",
    "print(result)\n",
    "\n",
    "result_2 = re.match('largest',r'Analytics Vidhya is the largest data science community of India') \n",
    "print(result_2)"
   ]
  },
  {
   "cell_type": "markdown",
   "metadata": {},
   "source": [
    "Since output of the re.match is an object, we will use *group()* function of match object to get the matched expression."
   ]
  },
  {
   "cell_type": "code",
   "execution_count": 5,
   "metadata": {},
   "outputs": [
    {
     "name": "stdout",
     "output_type": "stream",
     "text": [
      "Analytics\n"
     ]
    }
   ],
   "source": [
    "print(result.group())  #returns the total matches"
   ]
  },
  {
   "cell_type": "markdown",
   "metadata": {},
   "source": [
    "<br>\n",
    "\n",
    "**2. re.search()**\n",
    "\n",
    "Matches the first occurence of a pattern in the entire string."
   ]
  },
  {
   "cell_type": "code",
   "execution_count": 6,
   "metadata": {},
   "outputs": [
    {
     "name": "stdout",
     "output_type": "stream",
     "text": [
      "founded\n"
     ]
    }
   ],
   "source": [
    "#search for a pattern 'founded' in a given string \n",
    "\n",
    "result = re.search('founded',r'Andrew NG founded Coursera.He also founded deeplearning.ai')\n",
    "print(result.group())"
   ]
  },
  {
   "cell_type": "markdown",
   "metadata": {},
   "source": [
    "<br>\n",
    "\n",
    "**3. re.findall()**\n",
    "\n",
    "It will return all the occurrences of the pattern from the string. I would recommend you to use *re.findall()* always, it can work like both *re.search()* and *re.match()*."
   ]
  },
  {
   "cell_type": "code",
   "execution_count": 7,
   "metadata": {},
   "outputs": [
    {
     "name": "stdout",
     "output_type": "stream",
     "text": [
      "['founded', 'founded']\n"
     ]
    }
   ],
   "source": [
    "result = re.findall('founded',r'Andrew NG founded Coursera. He also founded deeplearning.ai')  \n",
    "print(result)"
   ]
  },
  {
   "cell_type": "markdown",
   "metadata": {},
   "source": [
    "### Special sequences\n",
    "\n",
    "1. **\\A**\treturns a match if the specified pattern is at the beginning of the string."
   ]
  },
  {
   "cell_type": "code",
   "execution_count": 8,
   "metadata": {},
   "outputs": [
    {
     "name": "stdout",
     "output_type": "stream",
     "text": [
      "[]\n"
     ]
    },
    {
     "name": "stderr",
     "output_type": "stream",
     "text": [
      "<>:3: SyntaxWarning: invalid escape sequence '\\A'\n",
      "<>:3: SyntaxWarning: invalid escape sequence '\\A'\n",
      "C:\\Users\\HomePC\\AppData\\Local\\Temp\\ipykernel_4768\\54747255.py:3: SyntaxWarning: invalid escape sequence '\\A'\n",
      "  x= re.findall('\\AVidhya', str)\n"
     ]
    }
   ],
   "source": [
    "str = r'Analytics Vidhya is the largest data science community of India'\n",
    "\n",
    "x= re.findall('\\AVidhya', str)\n",
    "\n",
    "print(x)"
   ]
  },
  {
   "cell_type": "markdown",
   "metadata": {},
   "source": [
    "2. **\\b** returns a match where the specified pattern is at the beginning or at the end of a word."
   ]
  },
  {
   "cell_type": "code",
   "execution_count": 9,
   "metadata": {},
   "outputs": [
    {
     "name": "stdout",
     "output_type": "stream",
     "text": [
      "['est']\n"
     ]
    }
   ],
   "source": [
    "#checks if there is any word that ends with 'est'\"Visualization With Seaborn_v2.ipynb\"\n",
    "\n",
    "x= re.findall(r'est\\b',str)\n",
    "print(x)"
   ]
  },
  {
   "cell_type": "markdown",
   "metadata": {},
   "source": [
    "It returns the last three characters of the word \"largest\"."
   ]
  },
  {
   "cell_type": "markdown",
   "metadata": {},
   "source": [
    "3. **\\B**\treturns a match where the specified pattern is present, but NOT at the beginning (or at the end) of a word."
   ]
  },
  {
   "cell_type": "code",
   "execution_count": 10,
   "metadata": {},
   "outputs": [
    {
     "name": "stdout",
     "output_type": "stream",
     "text": [
      "['en']\n"
     ]
    }
   ],
   "source": [
    "str = r'Analytics Vidhya is the largest data science community of India'\n",
    "\n",
    "x = re.findall(r\"\\Ben\", str)\n",
    "\n",
    "print(x)"
   ]
  },
  {
   "cell_type": "markdown",
   "metadata": {},
   "source": [
    "4. **\\d** returns a match where the string contains digits (numbers from 0-9)"
   ]
  },
  {
   "cell_type": "code",
   "execution_count": 11,
   "metadata": {},
   "outputs": [
    {
     "name": "stdout",
     "output_type": "stream",
     "text": [
      "['2', '1', '9']\n",
      "Yes, there is at least one match!\n"
     ]
    },
    {
     "name": "stderr",
     "output_type": "stream",
     "text": [
      "<>:4: SyntaxWarning: invalid escape sequence '\\d'\n",
      "<>:4: SyntaxWarning: invalid escape sequence '\\d'\n",
      "C:\\Users\\HomePC\\AppData\\Local\\Temp\\ipykernel_4768\\2397611879.py:4: SyntaxWarning: invalid escape sequence '\\d'\n",
      "  x = re.findall(\"\\d\", str)\n"
     ]
    }
   ],
   "source": [
    "str = \"2 million monthly visits in Jan'19.\"\n",
    "\n",
    "#Check if the string contains any digits (numbers from 0-9):\n",
    "x = re.findall(\"\\d\", str)\n",
    "\n",
    "print(x)\n",
    "\n",
    "if (x):\n",
    "  print(\"Yes, there is at least one match!\")\n",
    "else:\n",
    "  print(\"No match\")"
   ]
  },
  {
   "cell_type": "markdown",
   "metadata": {},
   "source": [
    "We can infer that **\\d+** repeats one or more occurences of **\\d** till the non maching character is found where as **\\d** does character wise comparison."
   ]
  },
  {
   "cell_type": "markdown",
   "metadata": {},
   "source": [
    "5. **\\D** returns a match where the string does not contain any digit."
   ]
  },
  {
   "cell_type": "code",
   "execution_count": 12,
   "metadata": {},
   "outputs": [
    {
     "name": "stdout",
     "output_type": "stream",
     "text": [
      "[' ', 'm', 'i', 'l', 'l', 'i', 'o', 'n', ' ', 'm', 'o', 'n', 't', 'h', 'l', 'y', ' ', 'v', 'i', 's', 'i', 't', 's', ' ', 'i', 'n', ' ', 'J', 'a', 'n', \"'\", '.']\n",
      "Yes, there is at least one match!\n"
     ]
    },
    {
     "name": "stderr",
     "output_type": "stream",
     "text": [
      "<>:4: SyntaxWarning: invalid escape sequence '\\D'\n",
      "<>:4: SyntaxWarning: invalid escape sequence '\\D'\n",
      "C:\\Users\\HomePC\\AppData\\Local\\Temp\\ipykernel_4768\\2148266778.py:4: SyntaxWarning: invalid escape sequence '\\D'\n",
      "  x = re.findall(\"\\D\", str)\n"
     ]
    }
   ],
   "source": [
    "str = \"2 million monthly visits in Jan'19.\"\n",
    "\n",
    "#Check if the word character does not contain any digits (numbers from 0-9):\n",
    "x = re.findall(\"\\D\", str)\n",
    "\n",
    "print(x)\n",
    "\n",
    "if (x):\n",
    "  print(\"Yes, there is at least one match!\")\n",
    "else:\n",
    "  print(\"No match\")"
   ]
  },
  {
   "cell_type": "code",
   "execution_count": 13,
   "metadata": {},
   "outputs": [
    {
     "name": "stdout",
     "output_type": "stream",
     "text": [
      "[\" million monthly visits'\"]\n",
      "Yes, there is at least one match!\n"
     ]
    },
    {
     "name": "stderr",
     "output_type": "stream",
     "text": [
      "<>:5: SyntaxWarning: invalid escape sequence '\\D'\n",
      "<>:5: SyntaxWarning: invalid escape sequence '\\D'\n",
      "C:\\Users\\HomePC\\AppData\\Local\\Temp\\ipykernel_4768\\2243710497.py:5: SyntaxWarning: invalid escape sequence '\\D'\n",
      "  x = re.findall(\"\\D+\", str)\n"
     ]
    }
   ],
   "source": [
    "str = \"2 million monthly visits'19\"\n",
    "\n",
    "#Check if the word does not contain any digits (numbers from 0-9):\n",
    "\n",
    "x = re.findall(\"\\D+\", str)\n",
    "\n",
    "print(x)\n",
    "\n",
    "if (x):\n",
    "  print(\"Yes, there is at least one match!\")\n",
    "else:\n",
    "  print(\"No match\")"
   ]
  },
  {
   "cell_type": "markdown",
   "metadata": {},
   "source": [
    "6. **\\w** helps in extraction of alphanumeric characters only (characters from a to Z, digits from 0-9, and the underscore _ character)"
   ]
  },
  {
   "cell_type": "code",
   "execution_count": 14,
   "metadata": {},
   "outputs": [
    {
     "name": "stdout",
     "output_type": "stream",
     "text": [
      "['2', 'm', 'i', 'l', 'l', 'i', 'o', 'n', 'm', 'o', 'n', 't', 'h', 'l', 'y', 'v', 'i', 's', 'i', 't', 's']\n",
      "Yes, there is at least one match!\n"
     ]
    },
    {
     "name": "stderr",
     "output_type": "stream",
     "text": [
      "<>:5: SyntaxWarning: invalid escape sequence '\\w'\n",
      "<>:5: SyntaxWarning: invalid escape sequence '\\w'\n",
      "C:\\Users\\HomePC\\AppData\\Local\\Temp\\ipykernel_4768\\4220664354.py:5: SyntaxWarning: invalid escape sequence '\\w'\n",
      "  x = re.findall(\"\\w\",str)\n"
     ]
    }
   ],
   "source": [
    "str = \"2 million monthly visits!\"\n",
    "\n",
    "#returns a match at every word character (characters from a to Z, digits from 0-9, and the underscore _ character)\n",
    "\n",
    "x = re.findall(\"\\w\",str)\n",
    "\n",
    "print(x)\n",
    "\n",
    "if (x):\n",
    "  print(\"Yes, there is at least one match!\")\n",
    "else:\n",
    "  print(\"No match\")"
   ]
  },
  {
   "cell_type": "code",
   "execution_count": 15,
   "metadata": {},
   "outputs": [
    {
     "name": "stdout",
     "output_type": "stream",
     "text": [
      "['2', 'm', 'i', 'l', 'l', 'i', 'o', 'n', 'm', 'o', 'n', 't', 'h', 'l', 'y', 'v', 'i', 's', 'i', 't', 's']\n",
      "Yes, there is at least one match!\n"
     ]
    },
    {
     "name": "stderr",
     "output_type": "stream",
     "text": [
      "<>:5: SyntaxWarning: invalid escape sequence '\\w'\n",
      "<>:5: SyntaxWarning: invalid escape sequence '\\w'\n",
      "C:\\Users\\HomePC\\AppData\\Local\\Temp\\ipykernel_4768\\4220664354.py:5: SyntaxWarning: invalid escape sequence '\\w'\n",
      "  x = re.findall(\"\\w\",str)\n"
     ]
    }
   ],
   "source": [
    "str = \"2 million monthly visits!\"\n",
    "\n",
    "#returns a match at every word character (characters from a to Z, digits from 0-9, and the underscore _ character)\n",
    "\n",
    "x = re.findall(\"\\w\",str)\n",
    "\n",
    "print(x)\n",
    "\n",
    "if (x):\n",
    "  print(\"Yes, there is at least one match!\")\n",
    "else:\n",
    "  print(\"No match\")"
   ]
  },
  {
   "cell_type": "markdown",
   "metadata": {},
   "source": [
    "7. **\\W** returns match at every non alphanumeric character."
   ]
  },
  {
   "cell_type": "code",
   "execution_count": 16,
   "metadata": {},
   "outputs": [
    {
     "name": "stdout",
     "output_type": "stream",
     "text": [
      "[' ', ' ', ' ', '!']\n",
      "Yes, there is at least one match!\n"
     ]
    },
    {
     "name": "stderr",
     "output_type": "stream",
     "text": [
      "<>:5: SyntaxWarning: invalid escape sequence '\\W'\n",
      "<>:5: SyntaxWarning: invalid escape sequence '\\W'\n",
      "C:\\Users\\HomePC\\AppData\\Local\\Temp\\ipykernel_4768\\52350465.py:5: SyntaxWarning: invalid escape sequence '\\W'\n",
      "  x = re.findall(\"\\W\", str)\n"
     ]
    }
   ],
   "source": [
    "str = \"2 million monthly visits9!\"\n",
    "\n",
    "#returns a match at every NON word character (characters NOT between a and Z. Like \"!\", \"?\" white-space etc.):\n",
    "\n",
    "x = re.findall(\"\\W\", str)\n",
    "\n",
    "print(x)\n",
    "\n",
    "if (x):\n",
    "  print(\"Yes, there is at least one match!\")\n",
    "else:\n",
    "  print(\"No match\")"
   ]
  },
  {
   "cell_type": "markdown",
   "metadata": {},
   "source": [
    "## Metacharacters\n",
    "\n",
    "Metacharacters are characters with a special meaning\n",
    "\n",
    "1. **(.)** matches any character (except newline character)"
   ]
  },
  {
   "cell_type": "code",
   "execution_count": 17,
   "metadata": {},
   "outputs": [
    {
     "name": "stdout",
     "output_type": "stream",
     "text": [
      "['roh', 'roh']\n",
      "['rohan', 'rohit']\n"
     ]
    }
   ],
   "source": [
    "str = \"rohan and rohit recently published a research paper!\" \n",
    "\n",
    "#Search for a string that starts with \"ro\", followed by three (any) characters\n",
    "\n",
    "x = re.findall(\"ro.\", str)\n",
    "x2 = re.findall(\"ro...\", str)\n",
    "\n",
    "print(x)\n",
    "print(x2)"
   ]
  },
  {
   "cell_type": "markdown",
   "metadata": {},
   "source": [
    "2. **(^)** starts with"
   ]
  },
  {
   "cell_type": "code",
   "execution_count": 18,
   "metadata": {},
   "outputs": [
    {
     "name": "stdout",
     "output_type": "stream",
     "text": [
      "Yes, the string starts with 'Data'\n"
     ]
    }
   ],
   "source": [
    "str = \"Data Science\"\n",
    "\n",
    "#Check if the string starts with 'Data':\n",
    "x = re.findall(\"^Data\", str)\n",
    "\n",
    "if (x):\n",
    "  print(\"Yes, the string starts with 'Data'\")\n",
    "else:\n",
    "  print(\"No match\")\n",
    "  \n",
    "#print(x)  "
   ]
  },
  {
   "cell_type": "code",
   "execution_count": 19,
   "metadata": {},
   "outputs": [
    {
     "name": "stdout",
     "output_type": "stream",
     "text": [
      "No match\n"
     ]
    }
   ],
   "source": [
    "# try with a different string\n",
    "str2 = \"Big Data\"\n",
    "\n",
    "#Check if the string starts with 'Data':\n",
    "x2 = re.findall(\"^Data\", str2)\n",
    "\n",
    "if (x2):\n",
    "  print(\"Yes, the string starts with 'data'\")\n",
    "else:\n",
    "  print(\"No match\")\n",
    "  \n",
    "#print(x2)  "
   ]
  },
  {
   "cell_type": "markdown",
   "metadata": {},
   "source": [
    "3. **($)** ends with"
   ]
  },
  {
   "cell_type": "code",
   "execution_count": 20,
   "metadata": {},
   "outputs": [
    {
     "name": "stdout",
     "output_type": "stream",
     "text": [
      "Yes, the string ends with 'Science'\n"
     ]
    }
   ],
   "source": [
    "str = \"Data Science\"\n",
    "\n",
    "#Check if the string ends with 'Science':\n",
    "\n",
    "x = re.findall(\"Science$\", str)\n",
    "\n",
    "if (x):\n",
    "  print(\"Yes, the string ends with 'Science'\")\n",
    "\n",
    "else:\n",
    "  print(\"No match\")\n",
    "  \n",
    "#print(x)"
   ]
  },
  {
   "cell_type": "markdown",
   "metadata": {},
   "source": [
    "4. (*) matches for zero or more occurences of the pattern to the left of it"
   ]
  },
  {
   "cell_type": "code",
   "execution_count": 21,
   "metadata": {},
   "outputs": [
    {
     "name": "stdout",
     "output_type": "stream",
     "text": [
      "['easy', 'easssy', 'eay']\n",
      "Yes, there is at least one match!\n"
     ]
    }
   ],
   "source": [
    "str = \"easy easssy eay ey\"\n",
    "\n",
    "#Check if the string contains \"ea\" followed by 0 or more \"s\" characters and ending with y\n",
    "x = re.findall(\"eas*y\", str)\n",
    "\n",
    "print(x)\n",
    "\n",
    "if (x):\n",
    "  print(\"Yes, there is at least one match!\")\n",
    "else:\n",
    "  print(\"No match\")"
   ]
  },
  {
   "cell_type": "markdown",
   "metadata": {},
   "source": [
    "5. **(+)** matches one or more occurences of the pattern to the left of it"
   ]
  },
  {
   "cell_type": "code",
   "execution_count": 22,
   "metadata": {},
   "outputs": [
    {
     "name": "stdout",
     "output_type": "stream",
     "text": [
      "['easy', 'easssy']\n",
      "Yes, there is at least one match!\n"
     ]
    }
   ],
   "source": [
    "#Check if the string contains \"ea\" followed by 1 or more \"s\" characters and ends with y \n",
    "x = re.findall(\"eas+y\", str)\n",
    "\n",
    "print(x)\n",
    "\n",
    "if (x):\n",
    "  print(\"Yes, there is at least one match!\")\n",
    "else:\n",
    "  print(\"No match\")"
   ]
  },
  {
   "cell_type": "markdown",
   "metadata": {},
   "source": [
    "6. **(?)** matches zero or one occurrence of the pattern left to it."
   ]
  },
  {
   "cell_type": "code",
   "execution_count": 23,
   "metadata": {},
   "outputs": [
    {
     "name": "stdout",
     "output_type": "stream",
     "text": [
      "['easy', 'eay']\n",
      "Yes, there is at least one match!\n"
     ]
    }
   ],
   "source": [
    "x = re.findall(\"eas?y\",str)\n",
    "\n",
    "print(x)\n",
    "\n",
    "if (x):\n",
    "  print(\"Yes, there is at least one match!\")\n",
    "else:\n",
    "  print(\"No match\")"
   ]
  },
  {
   "cell_type": "markdown",
   "metadata": {},
   "source": [
    "7. **(|)** either or"
   ]
  },
  {
   "cell_type": "code",
   "execution_count": 24,
   "metadata": {},
   "outputs": [
    {
     "name": "stdout",
     "output_type": "stream",
     "text": [
      "['data', 'India']\n",
      "Yes, there is at least one match!\n"
     ]
    }
   ],
   "source": [
    "str = \"Analytics Vidhya is the largest data science community of India\"\n",
    "\n",
    "#Check if the string contains either \"data\" or \"India\":\n",
    "\n",
    "x = re.findall(\"data|India\", str)\n",
    "\n",
    "print(x)\n",
    "\n",
    "if (x):\n",
    "  print(\"Yes, there is at least one match!\")\n",
    "else:\n",
    "  print(\"No match\")"
   ]
  },
  {
   "cell_type": "code",
   "execution_count": 25,
   "metadata": {},
   "outputs": [
    {
     "name": "stdout",
     "output_type": "stream",
     "text": [
      "['data']\n",
      "Yes, there is at least one match!\n"
     ]
    }
   ],
   "source": [
    "# try with a different string\n",
    "str = \"Analytics Vidhya is one of the largest data science communities\"\n",
    "\n",
    "#Check if the string contains either \"data\" or \"India\":\n",
    "\n",
    "x = re.findall(\"data|India\", str)\n",
    "\n",
    "print(x)\n",
    "\n",
    "if (x):\n",
    "  print(\"Yes, there is at least one match!\")\n",
    "else:\n",
    "  print(\"No match\")"
   ]
  },
  {
   "cell_type": "markdown",
   "metadata": {},
   "source": [
    "## Sets\n",
    "\n",
    "1. A set is a bunch of characters inside a pair of square brackets [ ] with a special meaning."
   ]
  },
  {
   "cell_type": "code",
   "execution_count": 26,
   "metadata": {},
   "outputs": [
    {
     "name": "stdout",
     "output_type": "stream",
     "text": [
      "['y', 'd', 'h', 'y', 'h', 'd', 'y', 'd']\n",
      "Yes, there is atleat one match\n"
     ]
    }
   ],
   "source": [
    "str = 'Analytics Vidhya is the largest data science community of India'\n",
    "\n",
    "#check for the characters y,d,or h, in the above string \n",
    "x = re.findall('[ydh]', str)\n",
    "\n",
    "print(x)\n",
    "\n",
    "if(x):\n",
    "    print('Yes, there is atleat one match')\n",
    "else:\n",
    "    print('No match')"
   ]
  },
  {
   "cell_type": "code",
   "execution_count": 28,
   "metadata": {},
   "outputs": [
    {
     "name": "stdout",
     "output_type": "stream",
     "text": [
      "['a', 'c', 'd', 'a', 'e', 'a', 'g', 'e', 'd', 'a', 'a', 'c', 'e', 'c', 'e', 'c', 'd', 'a']\n",
      "Yes, there is at least one match\n"
     ]
    }
   ],
   "source": [
    "str = 'Analytics Vidhya is the largest data science community in India'\n",
    "\n",
    "#check for the charaters between a and g, in the above string \n",
    "\n",
    "x= re.findall('[a-g]', str)\n",
    "print(x)\n",
    "\n",
    "if(x):\n",
    "    print('Yes, there is at least one match')\n",
    "else:\n",
    "    print('No match')"
   ]
  },
  {
   "cell_type": "markdown",
   "metadata": {},
   "source": [
    "<br>\n",
    "\n",
    "Let's solve a problem."
   ]
  },
  {
   "cell_type": "code",
   "execution_count": null,
   "metadata": {},
   "outputs": [],
   "source": [
    "str = \"Mars' average distance from the Sun is roughly 230 million km and its orbital period is 687 (Earth) days.\"\n",
    "\n",
    "# extract the numbers starting with 0 to 4 from in the above string\n",
    "x = re.findall(r\"\\b[0-4]\\d+\", str)\n",
    "\n",
    "print(x)\n",
    "\n",
    "if (x):\n",
    "  print(\"Yes, there is at least one match!\")\n",
    "else:\n",
    "  print(\"No match\")"
   ]
  },
  {
   "cell_type": "markdown",
   "metadata": {},
   "source": [
    "2. **[^]** Check whether string has other characters mentioned after ^"
   ]
  },
  {
   "cell_type": "code",
   "execution_count": 29,
   "metadata": {},
   "outputs": [
    {
     "name": "stdout",
     "output_type": "stream",
     "text": [
      "['A', 'n', 'a', 'l', 't', 'i', 'c', 's', ' ', 'V', 'i', 'a', ' ', 'i', 's', ' ', 't', 'e', ' ', 'l', 'a', 'r', 'g', 'e', 's', 't', ' ', 'a', 't', 'a', ' ', 's', 'c', 'i', 'e', 'c', 'e', ' ', 'c', 'o', 'm', 'm', 'u', 'n', 'i', 't', ' ', 'o', 'f', ' ', 'I', 'n', 'i', 'a']\n",
      "Yes, there is at least one match!\n"
     ]
    }
   ],
   "source": [
    "str = \"Analytics Vidhya is the largest data sciece community of India\"\n",
    "\n",
    "#Check if every word character has characters than y, d, or h\n",
    "\n",
    "x = re.findall(\"[^ydh]\", str)\n",
    "\n",
    "print(x)\n",
    "\n",
    "if (x):\n",
    "  print(\"Yes, there is at least one match!\")\n",
    "else:\n",
    "  print(\"No match\")"
   ]
  },
  {
   "cell_type": "markdown",
   "metadata": {},
   "source": [
    "3. **[a-zA-Z0-9]** : Check whether string has alphanumeric characters"
   ]
  },
  {
   "cell_type": "code",
   "execution_count": 30,
   "metadata": {},
   "outputs": [
    {
     "name": "stdout",
     "output_type": "stream",
     "text": [
      "['@AV', '#AV']\n"
     ]
    },
    {
     "name": "stderr",
     "output_type": "stream",
     "text": [
      "<>:4: SyntaxWarning: invalid escape sequence '\\w'\n",
      "<>:4: SyntaxWarning: invalid escape sequence '\\w'\n",
      "C:\\Users\\HomePC\\AppData\\Local\\Temp\\ipykernel_4768\\671709130.py:4: SyntaxWarning: invalid escape sequence '\\w'\n",
      "  x = re.findall(\"[^a-zA-Z0-9 ]\\w+\", str)\n"
     ]
    }
   ],
   "source": [
    "str = \"@AV Largest Data Science community #AV!!\"\n",
    "\n",
    "# extract words that start with a special character\n",
    "x = re.findall(\"[^a-zA-Z0-9 ]\\w+\", str)\n",
    "\n",
    "print(x)"
   ]
  },
  {
   "cell_type": "markdown",
   "metadata": {},
   "source": [
    "## Solve Complex Queries\n",
    "\n",
    "Let us try solving some complex queries using regex.\n",
    "\n",
    "### Extracting Email IDs"
   ]
  },
  {
   "cell_type": "code",
   "execution_count": 31,
   "metadata": {},
   "outputs": [
    {
     "name": "stdout",
     "output_type": "stream",
     "text": [
      "['rohan.1997@gmail.com', 'smith_david34@yahoo.com', 'priya@yahoo.com']\n"
     ]
    },
    {
     "name": "stderr",
     "output_type": "stream",
     "text": [
      "<>:6: SyntaxWarning: invalid escape sequence '\\w'\n",
      "<>:6: SyntaxWarning: invalid escape sequence '\\w'\n",
      "C:\\Users\\HomePC\\AppData\\Local\\Temp\\ipykernel_4768\\3985100904.py:6: SyntaxWarning: invalid escape sequence '\\w'\n",
      "  x = re.findall('[a-zA-Z0-9._-]+@\\w+\\.com', str)\n"
     ]
    }
   ],
   "source": [
    "str = 'Send a mail to rohan.1997@gmail.com, smith_david34@yahoo.com and priya@yahoo.com about the meeting @2PM'\n",
    "  \n",
    "# \\w matches any alpha numeric character \n",
    "# + for repeats a character one or more times \n",
    "#x = re.findall('\\w+@\\w+\\.com', str)     \n",
    "x = re.findall('[a-zA-Z0-9._-]+@\\w+\\.com', str)     \n",
    "  \n",
    "# Printing of List \n",
    "print(x) "
   ]
  }
 ],
 "metadata": {
  "kernelspec": {
   "display_name": "Python 3",
   "language": "python",
   "name": "python3"
  },
  "language_info": {
   "codemirror_mode": {
    "name": "ipython",
    "version": 3
   },
   "file_extension": ".py",
   "mimetype": "text/x-python",
   "name": "python",
   "nbconvert_exporter": "python",
   "pygments_lexer": "ipython3",
   "version": "3.12.1"
  }
 },
 "nbformat": 4,
 "nbformat_minor": 2
}
